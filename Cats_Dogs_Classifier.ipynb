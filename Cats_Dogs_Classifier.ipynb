{
 "cells": [
  {
   "cell_type": "code",
   "execution_count": 1,
   "metadata": {},
   "outputs": [],
   "source": [
    "import os"
   ]
  },
  {
   "cell_type": "code",
   "execution_count": 2,
   "metadata": {},
   "outputs": [],
   "source": [
    "base_dir = r'Insert the path for Base Folder here'\n",
    "\n",
    "train_dir = os.path.join(base_dir, 'train')\n",
    "validation_dir = os.path.join(base_dir, 'validation')\n",
    "\n",
    "# Directory with our training cat/dog pictures\n",
    "train_cats_dir = os.path.join(train_dir, 'cats')\n",
    "train_dogs_dir = os.path.join(train_dir, 'dogs')\n",
    "\n",
    "# Directory with our validation cat/dog pictures\n",
    "validation_cats_dir = os.path.join(validation_dir, 'cats')\n",
    "validation_dogs_dir = os.path.join(validation_dir, 'dogs')"
   ]
  },
  {
   "cell_type": "code",
   "execution_count": 3,
   "metadata": {},
   "outputs": [
    {
     "name": "stdout",
     "output_type": "stream",
     "text": [
      "['cat.0.jpg', 'cat.1.jpg', 'cat.10.jpg', 'cat.100.jpg', 'cat.1000.jpg', 'cat.10000.jpg', 'cat.10001.jpg', 'cat.10002.jpg', 'cat.10003.jpg', 'cat.10004.jpg']\n",
      "['dog.0.jpg', 'dog.1.jpg', 'dog.10.jpg', 'dog.100.jpg', 'dog.1000.jpg', 'dog.10000.jpg', 'dog.10001.jpg', 'dog.10002.jpg', 'dog.10003.jpg', 'dog.10004.jpg']\n"
     ]
    }
   ],
   "source": [
    "train_cat_fnames = os.listdir(train_cats_dir)\n",
    "train_dog_fnames = os.listdir(train_dogs_dir)\n",
    "\n",
    "print(train_cat_fnames[:10])\n",
    "print(train_dog_fnames[:10])"
   ]
  },
  {
   "cell_type": "code",
   "execution_count": 4,
   "metadata": {},
   "outputs": [
    {
     "name": "stdout",
     "output_type": "stream",
     "text": [
      "Total Training Cat Images : 12500\n",
      "Total Training Dog Images : 12500\n",
      "Total Validation Cat Images : 500\n",
      "Total Validation Dog Images : 500\n"
     ]
    }
   ],
   "source": [
    "print('Total Training Cat Images :', len(os.listdir(train_cats_dir)))\n",
    "print('Total Training Dog Images :', len(os.listdir(train_dogs_dir)))\n",
    "\n",
    "print('Total Validation Cat Images :', len(os.listdir(validation_cats_dir)))\n",
    "print('Total Validation Dog Images :', len(os.listdir(validation_dogs_dir)))"
   ]
  },
  {
   "cell_type": "code",
   "execution_count": 5,
   "metadata": {},
   "outputs": [],
   "source": [
    "import tensorflow as tf"
   ]
  },
  {
   "cell_type": "code",
   "execution_count": 6,
   "metadata": {},
   "outputs": [],
   "source": [
    "model = tf.keras.models.Sequential([\n",
    "    # Note the input shape is the desired size of the image 150x150 with 3 bytes color\n",
    "    tf.keras.layers.Conv2D(16, (3,3), activation='relu', input_shape=(256, 256, 3)),\n",
    "    tf.keras.layers.MaxPooling2D(2,2),\n",
    "    tf.keras.layers.Conv2D(32, (3,3), activation='relu'),\n",
    "    tf.keras.layers.MaxPooling2D(2,2), \n",
    "    tf.keras.layers.Conv2D(64, (3,3), activation='relu'), \n",
    "    tf.keras.layers.MaxPooling2D(2,2),\n",
    "    tf.keras.layers.Conv2D(128, (3,3), activation='relu'), \n",
    "    tf.keras.layers.MaxPooling2D(2,2),\n",
    "    tf.keras.layers.Conv2D(256, (3,3), activation='relu'), \n",
    "    tf.keras.layers.MaxPooling2D(2,2),\n",
    "    # Flatten the results to feed into a DNN\n",
    "    tf.keras.layers.Flatten(), \n",
    "    # 512 neuron hidden layer\n",
    "    tf.keras.layers.Dense(512, activation='relu'), \n",
    "    # Only 1 output neuron. It will contain a value from 0-1 where 0 for 1 class ('cats') and 1 for the other ('dogs')\n",
    "    tf.keras.layers.Dense(1, activation='sigmoid')  \n",
    "])"
   ]
  },
  {
   "cell_type": "code",
   "execution_count": 7,
   "metadata": {},
   "outputs": [
    {
     "name": "stdout",
     "output_type": "stream",
     "text": [
      "Model: \"sequential\"\n",
      "_________________________________________________________________\n",
      "Layer (type)                 Output Shape              Param #   \n",
      "=================================================================\n",
      "conv2d (Conv2D)              (None, 254, 254, 16)      448       \n",
      "_________________________________________________________________\n",
      "max_pooling2d (MaxPooling2D) (None, 127, 127, 16)      0         \n",
      "_________________________________________________________________\n",
      "conv2d_1 (Conv2D)            (None, 125, 125, 32)      4640      \n",
      "_________________________________________________________________\n",
      "max_pooling2d_1 (MaxPooling2 (None, 62, 62, 32)        0         \n",
      "_________________________________________________________________\n",
      "conv2d_2 (Conv2D)            (None, 60, 60, 64)        18496     \n",
      "_________________________________________________________________\n",
      "max_pooling2d_2 (MaxPooling2 (None, 30, 30, 64)        0         \n",
      "_________________________________________________________________\n",
      "conv2d_3 (Conv2D)            (None, 28, 28, 128)       73856     \n",
      "_________________________________________________________________\n",
      "max_pooling2d_3 (MaxPooling2 (None, 14, 14, 128)       0         \n",
      "_________________________________________________________________\n",
      "conv2d_4 (Conv2D)            (None, 12, 12, 256)       295168    \n",
      "_________________________________________________________________\n",
      "max_pooling2d_4 (MaxPooling2 (None, 6, 6, 256)         0         \n",
      "_________________________________________________________________\n",
      "flatten (Flatten)            (None, 9216)              0         \n",
      "_________________________________________________________________\n",
      "dense (Dense)                (None, 512)               4719104   \n",
      "_________________________________________________________________\n",
      "dense_1 (Dense)              (None, 1)                 513       \n",
      "=================================================================\n",
      "Total params: 5,112,225\n",
      "Trainable params: 5,112,225\n",
      "Non-trainable params: 0\n",
      "_________________________________________________________________\n"
     ]
    }
   ],
   "source": [
    "model.summary()"
   ]
  },
  {
   "cell_type": "code",
   "execution_count": 8,
   "metadata": {},
   "outputs": [
    {
     "name": "stderr",
     "output_type": "stream",
     "text": [
      "C:\\Users\\offic\\AppData\\Roaming\\Python\\Python38\\site-packages\\tensorflow\\python\\keras\\optimizer_v2\\optimizer_v2.py:374: UserWarning: The `lr` argument is deprecated, use `learning_rate` instead.\n",
      "  warnings.warn(\n"
     ]
    }
   ],
   "source": [
    "from tensorflow.keras.optimizers import RMSprop\n",
    "\n",
    "model.compile(optimizer=RMSprop(learning_rate=0.001),\n",
    "              loss='binary_crossentropy',\n",
    "              metrics = ['accuracy'])"
   ]
  },
  {
   "cell_type": "code",
   "execution_count": 9,
   "metadata": {},
   "outputs": [
    {
     "name": "stdout",
     "output_type": "stream",
     "text": [
      "Found 25000 images belonging to 2 classes.\n",
      "Found 1000 images belonging to 2 classes.\n"
     ]
    }
   ],
   "source": [
    "from tensorflow.keras.preprocessing.image import ImageDataGenerator\n",
    "\n",
    "# All images will be rescaled by 1./255.\n",
    "train_datagen = ImageDataGenerator(rescale = 1.0/255.)\n",
    "test_datagen  = ImageDataGenerator(rescale = 1.0/255.)\n",
    "\n",
    "# --------------------\n",
    "# Flow training images in batches of 20 using train_datagen generator\n",
    "# --------------------\n",
    "train_generator = train_datagen.flow_from_directory(train_dir,\n",
    "                                                    batch_size=20,\n",
    "                                                    class_mode='binary',\n",
    "                                                    target_size=(256, 256))     \n",
    "# --------------------\n",
    "# Flow validation images in batches of 20 using test_datagen generator\n",
    "# --------------------\n",
    "validation_generator =  test_datagen.flow_from_directory(validation_dir,\n",
    "                                                         batch_size=20,\n",
    "                                                         class_mode = 'binary',\n",
    "                                                         target_size = (256, 256))\n"
   ]
  },
  {
   "cell_type": "code",
   "execution_count": 10,
   "metadata": {
    "scrolled": true
   },
   "outputs": [
    {
     "name": "stdout",
     "output_type": "stream",
     "text": [
      "Epoch 1/100\n",
      "100/100 - 53s - loss: 0.7147 - accuracy: 0.5390 - val_loss: 0.6759 - val_accuracy: 0.5200\n",
      "Epoch 2/100\n",
      "100/100 - 40s - loss: 0.6832 - accuracy: 0.5835 - val_loss: 0.6727 - val_accuracy: 0.5860\n",
      "Epoch 3/100\n",
      "100/100 - 40s - loss: 0.6766 - accuracy: 0.6275 - val_loss: 0.6004 - val_accuracy: 0.6900\n",
      "Epoch 4/100\n",
      "100/100 - 40s - loss: 0.6335 - accuracy: 0.6545 - val_loss: 0.5507 - val_accuracy: 0.7220\n",
      "Epoch 5/100\n",
      "100/100 - 40s - loss: 0.5962 - accuracy: 0.6915 - val_loss: 0.5590 - val_accuracy: 0.7060\n",
      "Epoch 6/100\n",
      "100/100 - 40s - loss: 0.5926 - accuracy: 0.6955 - val_loss: 0.5816 - val_accuracy: 0.6960\n",
      "Epoch 7/100\n",
      "100/100 - 40s - loss: 0.5778 - accuracy: 0.7180 - val_loss: 0.5294 - val_accuracy: 0.7350\n",
      "Epoch 8/100\n",
      "100/100 - 40s - loss: 0.5474 - accuracy: 0.7335 - val_loss: 0.4912 - val_accuracy: 0.7760\n",
      "Epoch 9/100\n",
      "100/100 - 40s - loss: 0.5263 - accuracy: 0.7420 - val_loss: 0.4715 - val_accuracy: 0.7850\n",
      "Epoch 10/100\n",
      "100/100 - 40s - loss: 0.5161 - accuracy: 0.7490 - val_loss: 0.4742 - val_accuracy: 0.7710\n",
      "Epoch 11/100\n",
      "100/100 - 40s - loss: 0.5097 - accuracy: 0.7515 - val_loss: 0.4784 - val_accuracy: 0.7930\n",
      "Epoch 12/100\n",
      "100/100 - 40s - loss: 0.4981 - accuracy: 0.7720 - val_loss: 0.4410 - val_accuracy: 0.7830\n",
      "Epoch 13/100\n",
      "100/100 - 40s - loss: 0.4784 - accuracy: 0.7750 - val_loss: 0.4799 - val_accuracy: 0.7740\n",
      "Epoch 14/100\n",
      "100/100 - 40s - loss: 0.4914 - accuracy: 0.7740 - val_loss: 0.4129 - val_accuracy: 0.8030\n",
      "Epoch 15/100\n",
      "100/100 - 40s - loss: 0.4642 - accuracy: 0.7925 - val_loss: 0.4255 - val_accuracy: 0.8090\n",
      "Epoch 16/100\n",
      "100/100 - 40s - loss: 0.4395 - accuracy: 0.8100 - val_loss: 0.4562 - val_accuracy: 0.7890\n",
      "Epoch 17/100\n",
      "100/100 - 40s - loss: 0.4214 - accuracy: 0.8150 - val_loss: 0.4121 - val_accuracy: 0.8070\n",
      "Epoch 18/100\n",
      "100/100 - 40s - loss: 0.4457 - accuracy: 0.7970 - val_loss: 0.3831 - val_accuracy: 0.8350\n",
      "Epoch 19/100\n",
      "100/100 - 40s - loss: 0.4401 - accuracy: 0.7980 - val_loss: 0.4824 - val_accuracy: 0.7690\n",
      "Epoch 20/100\n",
      "100/100 - 40s - loss: 0.4200 - accuracy: 0.8025 - val_loss: 0.3693 - val_accuracy: 0.8370\n",
      "Epoch 21/100\n",
      "100/100 - 40s - loss: 0.4201 - accuracy: 0.8105 - val_loss: 0.3460 - val_accuracy: 0.8410\n",
      "Epoch 22/100\n",
      "100/100 - 40s - loss: 0.3809 - accuracy: 0.8270 - val_loss: 0.3560 - val_accuracy: 0.8290\n",
      "Epoch 23/100\n",
      "100/100 - 40s - loss: 0.4165 - accuracy: 0.8240 - val_loss: 0.3873 - val_accuracy: 0.8330\n",
      "Epoch 24/100\n",
      "100/100 - 40s - loss: 0.3657 - accuracy: 0.8405 - val_loss: 0.4033 - val_accuracy: 0.8170\n",
      "Epoch 25/100\n",
      "100/100 - 40s - loss: 0.3847 - accuracy: 0.8345 - val_loss: 0.3354 - val_accuracy: 0.8530\n",
      "Epoch 26/100\n",
      "100/100 - 40s - loss: 0.3523 - accuracy: 0.8465 - val_loss: 0.3466 - val_accuracy: 0.8450\n",
      "Epoch 27/100\n",
      "100/100 - 40s - loss: 0.3671 - accuracy: 0.8505 - val_loss: 0.3194 - val_accuracy: 0.8610\n",
      "Epoch 28/100\n",
      "100/100 - 40s - loss: 0.3388 - accuracy: 0.8615 - val_loss: 0.3311 - val_accuracy: 0.8610\n",
      "Epoch 29/100\n",
      "100/100 - 40s - loss: 0.3348 - accuracy: 0.8545 - val_loss: 0.3227 - val_accuracy: 0.8490\n",
      "Epoch 30/100\n",
      "100/100 - 40s - loss: 0.3526 - accuracy: 0.8480 - val_loss: 0.2781 - val_accuracy: 0.8890\n",
      "Epoch 31/100\n",
      "100/100 - 40s - loss: 0.3379 - accuracy: 0.8530 - val_loss: 0.3051 - val_accuracy: 0.8880\n",
      "Epoch 32/100\n",
      "100/100 - 40s - loss: 0.3306 - accuracy: 0.8730 - val_loss: 0.2832 - val_accuracy: 0.8790\n",
      "Epoch 33/100\n",
      "100/100 - 40s - loss: 0.3236 - accuracy: 0.8735 - val_loss: 0.3151 - val_accuracy: 0.8660\n",
      "Epoch 34/100\n",
      "100/100 - 40s - loss: 0.3018 - accuracy: 0.8750 - val_loss: 0.3115 - val_accuracy: 0.8710\n",
      "Epoch 35/100\n",
      "100/100 - 40s - loss: 0.3532 - accuracy: 0.8545 - val_loss: 0.3188 - val_accuracy: 0.8720\n",
      "Epoch 36/100\n",
      "100/100 - 40s - loss: 0.3146 - accuracy: 0.8690 - val_loss: 0.2829 - val_accuracy: 0.8920\n",
      "Epoch 37/100\n",
      "100/100 - 40s - loss: 0.3000 - accuracy: 0.8765 - val_loss: 0.3320 - val_accuracy: 0.8550\n",
      "Epoch 38/100\n",
      "100/100 - 40s - loss: 0.3187 - accuracy: 0.8750 - val_loss: 0.3197 - val_accuracy: 0.8660\n",
      "Epoch 39/100\n",
      "100/100 - 40s - loss: 0.3149 - accuracy: 0.8735 - val_loss: 0.3177 - val_accuracy: 0.8660\n",
      "Epoch 40/100\n",
      "100/100 - 40s - loss: 0.2960 - accuracy: 0.8710 - val_loss: 0.3080 - val_accuracy: 0.8750\n",
      "Epoch 41/100\n",
      "100/100 - 40s - loss: 0.2977 - accuracy: 0.8755 - val_loss: 0.2340 - val_accuracy: 0.9040\n",
      "Epoch 42/100\n",
      "100/100 - 40s - loss: 0.3049 - accuracy: 0.8710 - val_loss: 0.3073 - val_accuracy: 0.8790\n",
      "Epoch 43/100\n",
      "100/100 - 40s - loss: 0.2977 - accuracy: 0.8800 - val_loss: 0.3275 - val_accuracy: 0.8660\n",
      "Epoch 44/100\n",
      "100/100 - 40s - loss: 0.3017 - accuracy: 0.8820 - val_loss: 0.2681 - val_accuracy: 0.8860\n",
      "Epoch 45/100\n",
      "100/100 - 40s - loss: 0.2902 - accuracy: 0.8925 - val_loss: 0.4352 - val_accuracy: 0.8550\n",
      "Epoch 46/100\n",
      "100/100 - 40s - loss: 0.2922 - accuracy: 0.8855 - val_loss: 0.2339 - val_accuracy: 0.9100\n",
      "Epoch 47/100\n",
      "100/100 - 40s - loss: 0.2852 - accuracy: 0.8870 - val_loss: 0.2171 - val_accuracy: 0.9130\n",
      "Epoch 48/100\n",
      "100/100 - 40s - loss: 0.2924 - accuracy: 0.8895 - val_loss: 0.2363 - val_accuracy: 0.9050\n",
      "Epoch 49/100\n",
      "100/100 - 40s - loss: 0.2814 - accuracy: 0.9030 - val_loss: 0.2539 - val_accuracy: 0.8950\n",
      "Epoch 50/100\n",
      "100/100 - 40s - loss: 0.2607 - accuracy: 0.9075 - val_loss: 0.2377 - val_accuracy: 0.9060\n",
      "Epoch 51/100\n",
      "100/100 - 40s - loss: 0.2751 - accuracy: 0.8980 - val_loss: 0.3900 - val_accuracy: 0.8620\n",
      "Epoch 52/100\n",
      "100/100 - 40s - loss: 0.2789 - accuracy: 0.8820 - val_loss: 0.2743 - val_accuracy: 0.8940\n",
      "Epoch 53/100\n",
      "100/100 - 40s - loss: 0.2663 - accuracy: 0.8935 - val_loss: 0.2756 - val_accuracy: 0.8980\n",
      "Epoch 54/100\n",
      "100/100 - 41s - loss: 0.2397 - accuracy: 0.9060 - val_loss: 0.3046 - val_accuracy: 0.8660\n",
      "Epoch 55/100\n",
      "100/100 - 41s - loss: 0.2448 - accuracy: 0.9060 - val_loss: 0.7346 - val_accuracy: 0.8300\n",
      "Epoch 56/100\n",
      "100/100 - 40s - loss: 0.2619 - accuracy: 0.8930 - val_loss: 0.3594 - val_accuracy: 0.8840\n",
      "Epoch 57/100\n",
      "100/100 - 40s - loss: 0.2498 - accuracy: 0.9010 - val_loss: 0.2915 - val_accuracy: 0.8880\n",
      "Epoch 58/100\n",
      "100/100 - 40s - loss: 0.2404 - accuracy: 0.9080 - val_loss: 0.3869 - val_accuracy: 0.8720\n",
      "Epoch 59/100\n",
      "100/100 - 40s - loss: 0.2544 - accuracy: 0.9005 - val_loss: 0.2410 - val_accuracy: 0.9070\n",
      "Epoch 60/100\n",
      "100/100 - 40s - loss: 0.2657 - accuracy: 0.8845 - val_loss: 0.2583 - val_accuracy: 0.9160\n",
      "Epoch 61/100\n",
      "100/100 - 40s - loss: 0.2564 - accuracy: 0.8980 - val_loss: 0.3012 - val_accuracy: 0.9080\n",
      "Epoch 62/100\n",
      "100/100 - 40s - loss: 0.2660 - accuracy: 0.8920 - val_loss: 0.3070 - val_accuracy: 0.8930\n",
      "Epoch 63/100\n",
      "100/100 - 40s - loss: 0.2616 - accuracy: 0.9035 - val_loss: 0.2113 - val_accuracy: 0.9230\n",
      "Epoch 64/100\n",
      "100/100 - 40s - loss: 0.2421 - accuracy: 0.9080 - val_loss: 0.2834 - val_accuracy: 0.8830\n",
      "Epoch 65/100\n",
      "100/100 - 40s - loss: 0.2415 - accuracy: 0.9025 - val_loss: 0.3077 - val_accuracy: 0.8850\n",
      "Epoch 66/100\n",
      "100/100 - 40s - loss: 0.2393 - accuracy: 0.9070 - val_loss: 0.2436 - val_accuracy: 0.9040\n",
      "Epoch 67/100\n",
      "100/100 - 40s - loss: 0.2537 - accuracy: 0.8960 - val_loss: 0.1971 - val_accuracy: 0.9280\n",
      "Epoch 68/100\n",
      "100/100 - 40s - loss: 0.2644 - accuracy: 0.9095 - val_loss: 0.2499 - val_accuracy: 0.9240\n",
      "Epoch 69/100\n",
      "100/100 - 40s - loss: 0.2236 - accuracy: 0.9155 - val_loss: 0.2467 - val_accuracy: 0.8860\n",
      "Epoch 70/100\n",
      "100/100 - 40s - loss: 0.2407 - accuracy: 0.9150 - val_loss: 0.2394 - val_accuracy: 0.9090\n",
      "Epoch 71/100\n",
      "100/100 - 40s - loss: 0.2480 - accuracy: 0.9015 - val_loss: 0.2485 - val_accuracy: 0.9110\n",
      "Epoch 72/100\n",
      "100/100 - 40s - loss: 0.2584 - accuracy: 0.9015 - val_loss: 0.2007 - val_accuracy: 0.9270\n",
      "Epoch 73/100\n",
      "100/100 - 40s - loss: 0.2388 - accuracy: 0.9050 - val_loss: 0.2677 - val_accuracy: 0.8960\n",
      "Epoch 74/100\n",
      "100/100 - 40s - loss: 0.2272 - accuracy: 0.9105 - val_loss: 0.2542 - val_accuracy: 0.9070\n",
      "Epoch 75/100\n",
      "100/100 - 40s - loss: 0.2458 - accuracy: 0.9135 - val_loss: 0.2566 - val_accuracy: 0.9010\n",
      "Epoch 76/100\n",
      "100/100 - 41s - loss: 0.2279 - accuracy: 0.9090 - val_loss: 0.2471 - val_accuracy: 0.9040\n",
      "Epoch 77/100\n",
      "100/100 - 40s - loss: 0.2505 - accuracy: 0.9110 - val_loss: 0.1868 - val_accuracy: 0.9320\n",
      "Epoch 78/100\n",
      "100/100 - 40s - loss: 0.2486 - accuracy: 0.9020 - val_loss: 0.2345 - val_accuracy: 0.9190\n",
      "Epoch 79/100\n",
      "100/100 - 40s - loss: 0.2490 - accuracy: 0.9120 - val_loss: 0.3390 - val_accuracy: 0.9090\n",
      "Epoch 80/100\n",
      "100/100 - 40s - loss: 0.2588 - accuracy: 0.9090 - val_loss: 0.1960 - val_accuracy: 0.9240\n"
     ]
    },
    {
     "name": "stdout",
     "output_type": "stream",
     "text": [
      "Epoch 81/100\n",
      "100/100 - 40s - loss: 0.2443 - accuracy: 0.9025 - val_loss: 0.2266 - val_accuracy: 0.9100\n",
      "Epoch 82/100\n",
      "100/100 - 40s - loss: 0.2429 - accuracy: 0.9030 - val_loss: 0.2502 - val_accuracy: 0.9040\n",
      "Epoch 83/100\n",
      "100/100 - 40s - loss: 0.2360 - accuracy: 0.9070 - val_loss: 0.2692 - val_accuracy: 0.8820\n",
      "Epoch 84/100\n",
      "100/100 - 40s - loss: 0.2433 - accuracy: 0.9125 - val_loss: 0.2657 - val_accuracy: 0.8880\n",
      "Epoch 85/100\n",
      "100/100 - 40s - loss: 0.2342 - accuracy: 0.9110 - val_loss: 0.1947 - val_accuracy: 0.9260\n",
      "Epoch 86/100\n",
      "100/100 - 40s - loss: 0.2042 - accuracy: 0.9235 - val_loss: 0.2204 - val_accuracy: 0.9240\n",
      "Epoch 87/100\n",
      "100/100 - 40s - loss: 0.2281 - accuracy: 0.9205 - val_loss: 0.1790 - val_accuracy: 0.9380\n",
      "Epoch 88/100\n",
      "100/100 - 40s - loss: 0.3201 - accuracy: 0.9060 - val_loss: 0.1904 - val_accuracy: 0.9370\n",
      "Epoch 89/100\n",
      "100/100 - 40s - loss: 0.2295 - accuracy: 0.9160 - val_loss: 0.2430 - val_accuracy: 0.9040\n",
      "Epoch 90/100\n",
      "100/100 - 40s - loss: 0.2511 - accuracy: 0.9120 - val_loss: 0.1944 - val_accuracy: 0.9290\n",
      "Epoch 91/100\n",
      "100/100 - 40s - loss: 0.2240 - accuracy: 0.9150 - val_loss: 0.2007 - val_accuracy: 0.9370\n",
      "Epoch 92/100\n",
      "100/100 - 40s - loss: 0.2623 - accuracy: 0.9125 - val_loss: 0.2421 - val_accuracy: 0.9170\n",
      "Epoch 93/100\n",
      "100/100 - 40s - loss: 0.2258 - accuracy: 0.9140 - val_loss: 0.2587 - val_accuracy: 0.8980\n",
      "Epoch 94/100\n",
      "100/100 - 40s - loss: 0.2396 - accuracy: 0.9020 - val_loss: 0.2218 - val_accuracy: 0.9160\n",
      "Epoch 95/100\n",
      "100/100 - 40s - loss: 0.2164 - accuracy: 0.9070 - val_loss: 0.4138 - val_accuracy: 0.8700\n",
      "Epoch 96/100\n",
      "100/100 - 40s - loss: 0.2252 - accuracy: 0.9170 - val_loss: 0.2318 - val_accuracy: 0.9120\n",
      "Epoch 97/100\n",
      "100/100 - 40s - loss: 0.2930 - accuracy: 0.9000 - val_loss: 0.1854 - val_accuracy: 0.9220\n",
      "Epoch 98/100\n",
      "100/100 - 40s - loss: 0.2622 - accuracy: 0.9105 - val_loss: 0.3108 - val_accuracy: 0.8560\n",
      "Epoch 99/100\n",
      "100/100 - 40s - loss: 0.2564 - accuracy: 0.9135 - val_loss: 0.1927 - val_accuracy: 0.9260\n",
      "Epoch 100/100\n",
      "100/100 - 40s - loss: 0.2330 - accuracy: 0.9115 - val_loss: 0.2284 - val_accuracy: 0.9420\n"
     ]
    }
   ],
   "source": [
    "history = model.fit(train_generator,\n",
    "                    validation_data = validation_generator,\n",
    "                    steps_per_epoch = 100,\n",
    "                    epochs = 100,\n",
    "                    validation_steps = 50,\n",
    "                    verbose = 2)"
   ]
  },
  {
   "cell_type": "code",
   "execution_count": 11,
   "metadata": {},
   "outputs": [],
   "source": [
    "import matplotlib.pyplot as plt"
   ]
  },
  {
   "cell_type": "code",
   "execution_count": 12,
   "metadata": {},
   "outputs": [
    {
     "data": {
      "text/plain": [
       "<matplotlib.legend.Legend at 0x2b42c34ce80>"
      ]
     },
     "execution_count": 12,
     "metadata": {},
     "output_type": "execute_result"
    },
    {
     "data": {
      "image/png": "[encoded data removed]",
      "text/plain": [
       "<Figure size 432x288 with 1 Axes>"
      ]
     },
     "metadata": {
      "needs_background": "light"
     },
     "output_type": "display_data"
    },
    {
     "data": {
      "image/png": "[encoded data removed]",
      "text/plain": [
       "<Figure size 432x288 with 1 Axes>"
      ]
     },
     "metadata": {
      "needs_background": "light"
     },
     "output_type": "display_data"
    }
   ],
   "source": [
    "#-----------------------------------------------------------\n",
    "# Retrieve a list of list results on training and test data\n",
    "# sets for each training epoch\n",
    "#-----------------------------------------------------------\n",
    "acc = history.history['accuracy']\n",
    "val_acc = history.history['val_accuracy']\n",
    "loss = history.history['loss']\n",
    "val_loss = history.history['val_loss']\n",
    "\n",
    "epochs = range(len(acc)) # Get number of epochs\n",
    "\n",
    "#------------------------------------------------\n",
    "# Plot training and validation accuracy per epoch\n",
    "#------------------------------------------------\n",
    "plt.plot(epochs, acc, label = 'Training Accuracy', color = 'Red')\n",
    "plt.plot(epochs, val_acc, label = 'Validation Accuracy', color = 'Blue')\n",
    "plt.title('Training and Validation Accuracy')\n",
    "plt.xlabel('Epochs')\n",
    "plt.ylabel('Accuracy')\n",
    "plt.legend()\n",
    "plt.figure()\n",
    "\n",
    "#------------------------------------------------\n",
    "# Plot training and validation loss per epoch\n",
    "#------------------------------------------------\n",
    "plt.plot(epochs, loss, label = 'Training Loss', color = 'Red')\n",
    "plt.plot(epochs, val_loss, label = 'Validation Loss', color = 'Blue')\n",
    "plt.title('Training and Validation Loss')\n",
    "plt.xlabel('Epochs')\n",
    "plt.ylabel('Loss')\n",
    "plt.legend()"
   ]
  }
 ],
 "metadata": {
  "kernelspec": {
   "display_name": "Python 3",
   "language": "python",
   "name": "python3"
  },
  "language_info": {
   "codemirror_mode": {
    "name": "ipython",
    "version": 3
   },
   "file_extension": ".py",
   "mimetype": "text/x-python",
   "name": "python",
   "nbconvert_exporter": "python",
   "pygments_lexer": "ipython3",
   "version": "3.8.5"
  }
 },
 "nbformat": 4,
 "nbformat_minor": 4
}

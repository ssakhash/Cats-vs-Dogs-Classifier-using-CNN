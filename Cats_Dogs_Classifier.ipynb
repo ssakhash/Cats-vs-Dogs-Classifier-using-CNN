{
 "cells": [
  {
   "cell_type": "code",
   "execution_count": 1,
   "metadata": {},
   "outputs": [],
   "source": [
    "import os"
   ]
  },
  {
   "cell_type": "code",
   "execution_count": 2,
   "metadata": {},
   "outputs": [],
   "source": [
    "base_dir = r'Insert the path for Base Folder here'\n",
    "\n",
    "train_dir = os.path.join(base_dir, 'train')\n",
    "validation_dir = os.path.join(base_dir, 'validation')\n",
    "\n",
    "# Directory with our training cat/dog pictures\n",
    "train_cats_dir = os.path.join(train_dir, 'cats')\n",
    "train_dogs_dir = os.path.join(train_dir, 'dogs')\n",
    "\n",
    "# Directory with our validation cat/dog pictures\n",
    "validation_cats_dir = os.path.join(validation_dir, 'cats')\n",
    "validation_dogs_dir = os.path.join(validation_dir, 'dogs')"
   ]
  },
  {
   "cell_type": "code",
   "execution_count": 3,
   "metadata": {},
   "outputs": [
    {
     "name": "stdout",
     "output_type": "stream",
     "text": [
      "['cat.0.jpg', 'cat.1.jpg', 'cat.10.jpg', 'cat.100.jpg', 'cat.1000.jpg', 'cat.10000.jpg', 'cat.10001.jpg', 'cat.10002.jpg', 'cat.10003.jpg', 'cat.10004.jpg']\n",
      "['dog.0.jpg', 'dog.1.jpg', 'dog.10.jpg', 'dog.100.jpg', 'dog.1000.jpg', 'dog.10000.jpg', 'dog.10001.jpg', 'dog.10002.jpg', 'dog.10003.jpg', 'dog.10004.jpg']\n"
     ]
    }
   ],
   "source": [
    "train_cat_fnames = os.listdir(train_cats_dir)\n",
    "train_dog_fnames = os.listdir(train_dogs_dir)\n",
    "\n",
    "print(train_cat_fnames[:10])\n",
    "print(train_dog_fnames[:10])"
   ]
  },
  {
   "cell_type": "code",
   "execution_count": 4,
   "metadata": {},
   "outputs": [
    {
     "name": "stdout",
     "output_type": "stream",
     "text": [
      "Total Training Cat Images : 12500\n",
      "Total Training Dog Images : 12500\n",
      "Total Validation Cat Images : 500\n",
      "Total Validation Dog Images : 500\n"
     ]
    }
   ],
   "source": [
    "print('Total Training Cat Images :', len(os.listdir(train_cats_dir)))\n",
    "print('Total Training Dog Images :', len(os.listdir(train_dogs_dir)))\n",
    "\n",
    "print('Total Validation Cat Images :', len(os.listdir(validation_cats_dir)))\n",
    "print('Total Validation Dog Images :', len(os.listdir(validation_dogs_dir)))"
   ]
  },
  {
   "cell_type": "code",
   "execution_count": 5,
   "metadata": {},
   "outputs": [],
   "source": [
    "import tensorflow as tf"
   ]
  },
  {
   "cell_type": "code",
   "execution_count": 6,
   "metadata": {},
   "outputs": [],
   "source": [
    "model = tf.keras.models.Sequential([\n",
    "    # Note the input shape is the desired size of the image 150x150 with 3 bytes color\n",
    "    tf.keras.layers.Conv2D(16, (3,3), activation='relu', input_shape=(200, 200, 3)),\n",
    "    tf.keras.layers.MaxPooling2D(2,2),\n",
    "    tf.keras.layers.Conv2D(32, (3,3), activation='relu'),\n",
    "    tf.keras.layers.MaxPooling2D(2,2), \n",
    "    tf.keras.layers.Conv2D(64, (3,3), activation='relu'), \n",
    "    tf.keras.layers.MaxPooling2D(2,2),\n",
    "    tf.keras.layers.Conv2D(128, (3,3), activation='relu'), \n",
    "    tf.keras.layers.MaxPooling2D(2,2),\n",
    "    # Flatten the results to feed into a DNN\n",
    "    tf.keras.layers.Flatten(), \n",
    "    # 512 neuron hidden layer\n",
    "    tf.keras.layers.Dense(512, activation='relu'), \n",
    "    # Only 1 output neuron. It will contain a value from 0-1 where 0 for 1 class ('cats') and 1 for the other ('dogs')\n",
    "    tf.keras.layers.Dense(1, activation='sigmoid')  \n",
    "])"
   ]
  },
  {
   "cell_type": "code",
   "execution_count": 7,
   "metadata": {},
   "outputs": [
    {
     "name": "stdout",
     "output_type": "stream",
     "text": [
      "Model: \"sequential\"\n",
      "_________________________________________________________________\n",
      "Layer (type)                 Output Shape              Param #   \n",
      "=================================================================\n",
      "conv2d (Conv2D)              (None, 198, 198, 16)      448       \n",
      "_________________________________________________________________\n",
      "max_pooling2d (MaxPooling2D) (None, 99, 99, 16)        0         \n",
      "_________________________________________________________________\n",
      "conv2d_1 (Conv2D)            (None, 97, 97, 32)        4640      \n",
      "_________________________________________________________________\n",
      "max_pooling2d_1 (MaxPooling2 (None, 48, 48, 32)        0         \n",
      "_________________________________________________________________\n",
      "conv2d_2 (Conv2D)            (None, 46, 46, 64)        18496     \n",
      "_________________________________________________________________\n",
      "max_pooling2d_2 (MaxPooling2 (None, 23, 23, 64)        0         \n",
      "_________________________________________________________________\n",
      "conv2d_3 (Conv2D)            (None, 21, 21, 128)       73856     \n",
      "_________________________________________________________________\n",
      "max_pooling2d_3 (MaxPooling2 (None, 10, 10, 128)       0         \n",
      "_________________________________________________________________\n",
      "flatten (Flatten)            (None, 12800)             0         \n",
      "_________________________________________________________________\n",
      "dense (Dense)                (None, 512)               6554112   \n",
      "_________________________________________________________________\n",
      "dense_1 (Dense)              (None, 1)                 513       \n",
      "=================================================================\n",
      "Total params: 6,652,065\n",
      "Trainable params: 6,652,065\n",
      "Non-trainable params: 0\n",
      "_________________________________________________________________\n"
     ]
    }
   ],
   "source": [
    "model.summary()"
   ]
  },
  {
   "cell_type": "code",
   "execution_count": 8,
   "metadata": {},
   "outputs": [],
   "source": [
    "from tensorflow.keras.optimizers import RMSprop\n",
    "\n",
    "model.compile(optimizer=RMSprop(lr=0.001),\n",
    "              loss='binary_crossentropy',\n",
    "              metrics = ['accuracy'])"
   ]
  },
  {
   "cell_type": "code",
   "execution_count": 9,
   "metadata": {},
   "outputs": [
    {
     "name": "stdout",
     "output_type": "stream",
     "text": [
      "Found 25000 images belonging to 2 classes.\n",
      "Found 1000 images belonging to 2 classes.\n"
     ]
    }
   ],
   "source": [
    "from tensorflow.keras.preprocessing.image import ImageDataGenerator\n",
    "\n",
    "# All images will be rescaled by 1./255.\n",
    "train_datagen = ImageDataGenerator(rescale = 1.0/255.)\n",
    "test_datagen  = ImageDataGenerator(rescale = 1.0/255.)\n",
    "\n",
    "# --------------------\n",
    "# Flow training images in batches of 20 using train_datagen generator\n",
    "# --------------------\n",
    "train_generator = train_datagen.flow_from_directory(train_dir,\n",
    "                                                    batch_size=20,\n",
    "                                                    class_mode='binary',\n",
    "                                                    target_size=(200, 200))     \n",
    "# --------------------\n",
    "# Flow validation images in batches of 20 using test_datagen generator\n",
    "# --------------------\n",
    "validation_generator =  test_datagen.flow_from_directory(validation_dir,\n",
    "                                                         batch_size=20,\n",
    "                                                         class_mode = 'binary',\n",
    "                                                         target_size = (200, 200))\n"
   ]
  },
  {
   "cell_type": "code",
   "execution_count": 10,
   "metadata": {
    "scrolled": true
   },
   "outputs": [
    {
     "name": "stdout",
     "output_type": "stream",
     "text": [
      "Epoch 1/30\n",
      "100/100 - 80s - loss: 0.7543 - accuracy: 0.5410 - val_loss: 0.7405 - val_accuracy: 0.5300\n",
      "Epoch 2/30\n",
      "100/100 - 77s - loss: 0.6793 - accuracy: 0.5675 - val_loss: 0.6902 - val_accuracy: 0.6230\n",
      "Epoch 3/30\n",
      "100/100 - 77s - loss: 0.6608 - accuracy: 0.6110 - val_loss: 0.6701 - val_accuracy: 0.6200\n",
      "Epoch 4/30\n",
      "100/100 - 79s - loss: 0.6322 - accuracy: 0.6495 - val_loss: 0.6176 - val_accuracy: 0.6310\n",
      "Epoch 5/30\n",
      "100/100 - 78s - loss: 0.6137 - accuracy: 0.6740 - val_loss: 0.5875 - val_accuracy: 0.6920\n",
      "Epoch 6/30\n",
      "100/100 - 78s - loss: 0.5930 - accuracy: 0.6865 - val_loss: 0.5606 - val_accuracy: 0.7010\n",
      "Epoch 7/30\n",
      "100/100 - 77s - loss: 0.5796 - accuracy: 0.6980 - val_loss: 0.5242 - val_accuracy: 0.7350\n",
      "Epoch 8/30\n",
      "100/100 - 77s - loss: 0.5562 - accuracy: 0.7090 - val_loss: 0.5168 - val_accuracy: 0.7490\n",
      "Epoch 9/30\n",
      "100/100 - 77s - loss: 0.5582 - accuracy: 0.7195 - val_loss: 0.5035 - val_accuracy: 0.7500\n",
      "Epoch 10/30\n",
      "100/100 - 77s - loss: 0.5366 - accuracy: 0.7245 - val_loss: 0.5705 - val_accuracy: 0.6820\n",
      "Epoch 11/30\n",
      "100/100 - 77s - loss: 0.5315 - accuracy: 0.7370 - val_loss: 0.4880 - val_accuracy: 0.7530\n",
      "Epoch 12/30\n",
      "100/100 - 77s - loss: 0.5159 - accuracy: 0.7470 - val_loss: 0.4436 - val_accuracy: 0.7840\n",
      "Epoch 13/30\n",
      "100/100 - 77s - loss: 0.5090 - accuracy: 0.7580 - val_loss: 0.4993 - val_accuracy: 0.7560\n",
      "Epoch 14/30\n",
      "100/100 - 77s - loss: 0.4768 - accuracy: 0.7750 - val_loss: 0.4527 - val_accuracy: 0.7860\n",
      "Epoch 15/30\n",
      "100/100 - 77s - loss: 0.4804 - accuracy: 0.7795 - val_loss: 0.4306 - val_accuracy: 0.8090\n",
      "Epoch 16/30\n",
      "100/100 - 77s - loss: 0.4777 - accuracy: 0.7880 - val_loss: 0.4421 - val_accuracy: 0.7990\n",
      "Epoch 17/30\n",
      "100/100 - 76s - loss: 0.4612 - accuracy: 0.7935 - val_loss: 0.4616 - val_accuracy: 0.7950\n",
      "Epoch 18/30\n",
      "100/100 - 78s - loss: 0.4470 - accuracy: 0.8010 - val_loss: 0.3847 - val_accuracy: 0.8320\n",
      "Epoch 19/30\n",
      "100/100 - 77s - loss: 0.4668 - accuracy: 0.7835 - val_loss: 0.4481 - val_accuracy: 0.7780\n",
      "Epoch 20/30\n",
      "100/100 - 77s - loss: 0.4215 - accuracy: 0.8060 - val_loss: 0.3843 - val_accuracy: 0.8220\n",
      "Epoch 21/30\n",
      "100/100 - 76s - loss: 0.4245 - accuracy: 0.8180 - val_loss: 0.5088 - val_accuracy: 0.7520\n",
      "Epoch 22/30\n",
      "100/100 - 77s - loss: 0.4362 - accuracy: 0.8100 - val_loss: 0.4623 - val_accuracy: 0.7800\n",
      "Epoch 23/30\n",
      "100/100 - 77s - loss: 0.4069 - accuracy: 0.8180 - val_loss: 0.3811 - val_accuracy: 0.8210\n",
      "Epoch 24/30\n",
      "100/100 - 77s - loss: 0.3868 - accuracy: 0.8220 - val_loss: 0.4145 - val_accuracy: 0.8260\n",
      "Epoch 25/30\n",
      "100/100 - 77s - loss: 0.4154 - accuracy: 0.8200 - val_loss: 0.4422 - val_accuracy: 0.7830\n",
      "Epoch 26/30\n",
      "100/100 - 77s - loss: 0.4303 - accuracy: 0.8000 - val_loss: 0.3838 - val_accuracy: 0.8470\n",
      "Epoch 27/30\n",
      "100/100 - 77s - loss: 0.3868 - accuracy: 0.8210 - val_loss: 0.3627 - val_accuracy: 0.8470\n",
      "Epoch 28/30\n",
      "100/100 - 78s - loss: 0.3770 - accuracy: 0.8445 - val_loss: 0.3340 - val_accuracy: 0.8600\n",
      "Epoch 29/30\n",
      "100/100 - 78s - loss: 0.3922 - accuracy: 0.8340 - val_loss: 0.3698 - val_accuracy: 0.8360\n",
      "Epoch 30/30\n",
      "100/100 - 77s - loss: 0.3745 - accuracy: 0.8410 - val_loss: 0.5267 - val_accuracy: 0.8020\n"
     ]
    }
   ],
   "source": [
    "history = model.fit(train_generator,\n",
    "                              validation_data = validation_generator,\n",
    "                              steps_per_epoch = 100,\n",
    "                              epochs = 30,\n",
    "                              validation_steps = 50,\n",
    "                              verbose = 2)"
   ]
  },
  {
   "cell_type": "code",
   "execution_count": 11,
   "metadata": {},
   "outputs": [],
   "source": [
    "import matplotlib.pyplot as plt"
   ]
  },
  {
   "cell_type": "code",
   "execution_count": 12,
   "metadata": {},
   "outputs": [
    {
     "data": {
      "text/plain": [
       "<matplotlib.legend.Legend at 0x1b8812bb520>"
      ]
     },
     "execution_count": 12,
     "metadata": {},
     "output_type": "execute_result"
    },
    {
     "data": {
      "image/png": "[encoded data removed]",
      "text/plain": [
       "<Figure size 432x288 with 1 Axes>"
      ]
     },
     "metadata": {
      "needs_background": "light"
     },
     "output_type": "display_data"
    },
    {
     "data": {
      "image/png": "[encoded data removed]",
      "text/plain": [
       "<Figure size 432x288 with 1 Axes>"
      ]
     },
     "metadata": {
      "needs_background": "light"
     },
     "output_type": "display_data"
    }
   ],
   "source": [
    "#-----------------------------------------------------------\n",
    "# Retrieve a list of list results on training and test data\n",
    "# sets for each training epoch\n",
    "#-----------------------------------------------------------\n",
    "acc = history.history['accuracy']\n",
    "val_acc = history.history['val_accuracy']\n",
    "loss = history.history['loss']\n",
    "val_loss = history.history['val_loss']\n",
    "\n",
    "epochs = range(len(acc)) # Get number of epochs\n",
    "\n",
    "#------------------------------------------------\n",
    "# Plot training and validation accuracy per epoch\n",
    "#------------------------------------------------\n",
    "plt.plot(epochs, acc, label = 'Training Accuracy', color = 'Red')\n",
    "plt.plot(epochs, val_acc, label = 'Validation Accuracy', color = 'Blue')\n",
    "plt.title('Training and Validation Accuracy')\n",
    "plt.xlabel('Epochs')\n",
    "plt.ylabel('Accuracy')\n",
    "plt.legend()\n",
    "plt.figure()\n",
    "\n",
    "#------------------------------------------------\n",
    "# Plot training and validation loss per epoch\n",
    "#------------------------------------------------\n",
    "plt.plot(epochs, loss, label = 'Training Loss', color = 'Red')\n",
    "plt.plot(epochs, val_loss, label = 'Validation Loss', color = 'Blue')\n",
    "plt.title('Training and Validation Loss')\n",
    "plt.xlabel('Epochs')\n",
    "plt.ylabel('Loss')\n",
    "plt.legend()"
   ]
  }
 ],
 "metadata": {
  "kernelspec": {
   "display_name": "Python 3",
   "language": "python",
   "name": "python3"
  },
  "language_info": {
   "codemirror_mode": {
    "name": "ipython",
    "version": 3
   },
   "file_extension": ".py",
   "mimetype": "text/x-python",
   "name": "python",
   "nbconvert_exporter": "python",
   "pygments_lexer": "ipython3",
   "version": "3.8.5"
  }
 },
 "nbformat": 4,
 "nbformat_minor": 4
}
